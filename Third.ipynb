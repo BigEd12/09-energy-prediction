{
 "cells": [
  {
   "cell_type": "markdown",
   "id": "230ab544",
   "metadata": {},
   "source": [
    "##### imports"
   ]
  },
  {
   "cell_type": "code",
   "execution_count": 18,
   "id": "6b26e5b4",
   "metadata": {},
   "outputs": [],
   "source": [
    "import numpy as np\n",
    "import pandas as pd\n",
    "\n",
    "from sklearn.linear_model import LinearRegression\n",
    "from sklearn.metrics import mean_squared_error\n",
    "from sklearn.model_selection import train_test_split"
   ]
  },
  {
   "cell_type": "code",
   "execution_count": 9,
   "id": "78a38ea0",
   "metadata": {},
   "outputs": [
    {
     "data": {
      "text/html": [
       "<div>\n",
       "<style scoped>\n",
       "    .dataframe tbody tr th:only-of-type {\n",
       "        vertical-align: middle;\n",
       "    }\n",
       "\n",
       "    .dataframe tbody tr th {\n",
       "        vertical-align: top;\n",
       "    }\n",
       "\n",
       "    .dataframe thead th {\n",
       "        text-align: right;\n",
       "    }\n",
       "</style>\n",
       "<table border=\"1\" class=\"dataframe\">\n",
       "  <thead>\n",
       "    <tr style=\"text-align: right;\">\n",
       "      <th></th>\n",
       "      <th>Observacion</th>\n",
       "      <th>U</th>\n",
       "      <th>V</th>\n",
       "      <th>T</th>\n",
       "    </tr>\n",
       "  </thead>\n",
       "  <tbody>\n",
       "    <tr>\n",
       "      <th>0</th>\n",
       "      <td>512</td>\n",
       "      <td>13</td>\n",
       "      <td>-34</td>\n",
       "      <td>2873</td>\n",
       "    </tr>\n",
       "    <tr>\n",
       "      <th>1</th>\n",
       "      <td>726</td>\n",
       "      <td>17</td>\n",
       "      <td>-21</td>\n",
       "      <td>2821</td>\n",
       "    </tr>\n",
       "    <tr>\n",
       "      <th>2</th>\n",
       "      <td>730</td>\n",
       "      <td>10</td>\n",
       "      <td>-21</td>\n",
       "      <td>2809</td>\n",
       "    </tr>\n",
       "  </tbody>\n",
       "</table>\n",
       "</div>"
      ],
      "text/plain": [
       "   Observacion   U   V     T\n",
       "0          512  13 -34  2873\n",
       "1          726  17 -21  2821\n",
       "2          730  10 -21  2809"
      ]
     },
     "execution_count": 9,
     "metadata": {},
     "output_type": "execute_result"
    }
   ],
   "source": [
    "df = pd.read_csv('meteologica.txt', delimiter=';')\n",
    "df.head(3)"
   ]
  },
  {
   "cell_type": "markdown",
   "id": "3846108b",
   "metadata": {},
   "source": [
    "# Data Preprocessing"
   ]
  },
  {
   "cell_type": "code",
   "execution_count": 10,
   "id": "234ffd4b",
   "metadata": {},
   "outputs": [],
   "source": [
    "def add_wind_speed(df):\n",
    "    return np.sqrt((df['U'] / 20) ** 2 + (df['V'] / 10) ** 2)\n",
    "\n",
    "def wind_radians_degrees(df):\n",
    "    radians = np.arctan2(df['U'], df['V'])\n",
    "    degrees = (np.degrees(radians) + 360) % 360\n",
    "    return degrees\n",
    "\n",
    "def direction_sector(df):\n",
    "    if df['Direction (degrees)'] >= 315 or df['Direction (degrees)'] < 45:\n",
    "        return 'North'\n",
    "    elif df['Direction (degrees)'] >= 45 and df['Direction (degrees)'] < 135:\n",
    "        return 'East'\n",
    "    elif df['Direction (degrees)'] >= 135 and df['Direction (degrees)'] < 225:\n",
    "        return 'South'\n",
    "    else:\n",
    "        return 'West'\n",
    "    \n",
    "def preprocessing(df):\n",
    "    df['Speed (m/ps)'] = df.apply(add_wind_speed, axis=1)\n",
    "    df['Direction (degrees)'] = df.apply(wind_radians_degrees, axis=1)\n",
    "    df['Direction (sector)'] = df.apply(direction_sector, axis=1)\n",
    "    north_df = df[df['Direction (sector)'] == 'North']\n",
    "    east_df = df[df['Direction (sector)'] == 'East']\n",
    "    south_df = df[df['Direction (sector)'] == 'South']\n",
    "    west_df = df[df['Direction (sector)'] == 'West']\n",
    "    \n",
    "    return north_df, east_df, south_df, west_df\n",
    "    "
   ]
  },
  {
   "cell_type": "code",
   "execution_count": 11,
   "id": "39f89d52",
   "metadata": {},
   "outputs": [],
   "source": [
    "north_df, east_df, south_df, west_df = preprocessing(df)"
   ]
  },
  {
   "cell_type": "markdown",
   "id": "6457a58d",
   "metadata": {},
   "source": [
    "# Linear Regression - North Sector"
   ]
  },
  {
   "cell_type": "code",
   "execution_count": 13,
   "id": "1c2e2394",
   "metadata": {},
   "outputs": [],
   "source": [
    "X_n = north_df[['Speed (m/ps)']]\n",
    "y_n = north_df['Observacion']\n",
    "\n",
    "X_train_n, X_test_n, y_train_n, y_test_n = train_test_split(X_n, \n",
    "                                                            y_n, \n",
    "                                                            test_size=0.2,\n",
    "                                                            random_state=42\n",
    "                                                           )"
   ]
  },
  {
   "cell_type": "code",
   "execution_count": 35,
   "id": "d2a2f790",
   "metadata": {},
   "outputs": [
    {
     "data": {
      "text/plain": [
       "'Y-Intercept for north sector: -15.06'"
      ]
     },
     "metadata": {},
     "output_type": "display_data"
    },
    {
     "data": {
      "text/plain": [
       "'Coefficient for north sector: 95.2'"
      ]
     },
     "metadata": {},
     "output_type": "display_data"
    }
   ],
   "source": [
    "lin_reg_n = LinearRegression()\n",
    "lin_reg_n.fit(X_train_n, y_train_n)\n",
    "\n",
    "y_intercept_n = round(lin_reg_n.intercept_, 2)\n",
    "coef_n = round(lin_reg_n.coef_[0], 2)\n",
    "\n",
    "display(f'Y-Intercept for north sector: {y_intercept_n}')\n",
    "display(f'Coefficient for north sector: {coef_n}')"
   ]
  },
  {
   "cell_type": "code",
   "execution_count": 31,
   "id": "211f8c09",
   "metadata": {},
   "outputs": [
    {
     "data": {
      "text/plain": [
       "'MAE as a precentage: 54.55'"
      ]
     },
     "metadata": {},
     "output_type": "display_data"
    },
    {
     "data": {
      "text/plain": [
       "'MSE as a precentage: 52.84'"
      ]
     },
     "metadata": {},
     "output_type": "display_data"
    }
   ],
   "source": [
    "y_pred_n = lin_reg_n.predict(X_test_n)\n",
    "\n",
    "mse_n = round(mean_squared_error(y_test_n, y_pred_n), 2)\n",
    "mae_n = round(np.mean(np.abs(y_test_n - y_pred_n)), 2)\n",
    "mse_n_percentage = round((mse_n / (y_test_n.mean() ** 2)) * 100, 2)\n",
    "mae_n_percentage = round((mae_n / y_test_n.mean()) * 100, 2)\n",
    "\n",
    "display(f'MAE as a precentage: {mae_n_percentage}')\n",
    "display(f'MSE as a precentage: {mse_n_percentage}')"
   ]
  }
 ],
 "metadata": {
  "kernelspec": {
   "display_name": "Python 3 (ipykernel)",
   "language": "python",
   "name": "python3"
  },
  "language_info": {
   "codemirror_mode": {
    "name": "ipython",
    "version": 3
   },
   "file_extension": ".py",
   "mimetype": "text/x-python",
   "name": "python",
   "nbconvert_exporter": "python",
   "pygments_lexer": "ipython3",
   "version": "3.10.6"
  },
  "toc": {
   "base_numbering": 1,
   "nav_menu": {},
   "number_sections": true,
   "sideBar": true,
   "skip_h1_title": false,
   "title_cell": "Table of Contents",
   "title_sidebar": "Contents",
   "toc_cell": false,
   "toc_position": {},
   "toc_section_display": true,
   "toc_window_display": false
  }
 },
 "nbformat": 4,
 "nbformat_minor": 5
}
