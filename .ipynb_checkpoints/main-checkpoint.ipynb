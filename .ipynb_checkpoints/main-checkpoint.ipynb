{
 "cells": [
  {
   "cell_type": "code",
   "execution_count": 129,
   "id": "fa110907",
   "metadata": {},
   "outputs": [
    {
     "name": "stdout",
     "output_type": "stream",
     "text": [
      "The autoreload extension is already loaded. To reload it, use:\n",
      "  %reload_ext autoreload\n"
     ]
    }
   ],
   "source": [
    "from utils.data_separation import prepare_input_data\n",
    "from utils.data_model_preprocessing import preprocessing, add_wind_speed, wind_radians_degrees, direction_sector, prepare_data_for_prediction\n",
    "from utils.model import errors, make_prediction\n",
    "\n",
    "import pandas as pd\n",
    "import numpy as np\n",
    "\n",
    "%load_ext autoreload\n",
    "%autoreload 2"
   ]
  },
  {
   "cell_type": "code",
   "execution_count": 130,
   "id": "46b5cd40",
   "metadata": {},
   "outputs": [
    {
     "name": "stderr",
     "output_type": "stream",
     "text": [
      "/root/.pyenv/versions/3.10.6/envs/lewagon/lib/python3.10/site-packages/sklearn/base.py:464: UserWarning: X does not have valid feature names, but LinearRegression was fitted with feature names\n",
      "  warnings.warn(\n",
      "/root/.pyenv/versions/3.10.6/envs/lewagon/lib/python3.10/site-packages/sklearn/base.py:464: UserWarning: X does not have valid feature names, but LinearRegression was fitted with feature names\n",
      "  warnings.warn(\n",
      "/root/.pyenv/versions/3.10.6/envs/lewagon/lib/python3.10/site-packages/sklearn/base.py:464: UserWarning: X does not have valid feature names, but LinearRegression was fitted with feature names\n",
      "  warnings.warn(\n",
      "/root/.pyenv/versions/3.10.6/envs/lewagon/lib/python3.10/site-packages/sklearn/base.py:464: UserWarning: X does not have valid feature names, but LinearRegression was fitted with feature names\n",
      "  warnings.warn(\n",
      "/root/.pyenv/versions/3.10.6/envs/lewagon/lib/python3.10/site-packages/sklearn/base.py:464: UserWarning: X does not have valid feature names, but LinearRegression was fitted with feature names\n",
      "  warnings.warn(\n",
      "/root/.pyenv/versions/3.10.6/envs/lewagon/lib/python3.10/site-packages/sklearn/base.py:464: UserWarning: X does not have valid feature names, but LinearRegression was fitted with feature names\n",
      "  warnings.warn(\n",
      "/root/.pyenv/versions/3.10.6/envs/lewagon/lib/python3.10/site-packages/sklearn/base.py:464: UserWarning: X does not have valid feature names, but LinearRegression was fitted with feature names\n",
      "  warnings.warn(\n",
      "/root/.pyenv/versions/3.10.6/envs/lewagon/lib/python3.10/site-packages/sklearn/base.py:464: UserWarning: X does not have valid feature names, but LinearRegression was fitted with feature names\n",
      "  warnings.warn(\n",
      "/root/.pyenv/versions/3.10.6/envs/lewagon/lib/python3.10/site-packages/sklearn/base.py:464: UserWarning: X does not have valid feature names, but LinearRegression was fitted with feature names\n",
      "  warnings.warn(\n",
      "/root/.pyenv/versions/3.10.6/envs/lewagon/lib/python3.10/site-packages/sklearn/base.py:464: UserWarning: X does not have valid feature names, but LinearRegression was fitted with feature names\n",
      "  warnings.warn(\n",
      "/root/.pyenv/versions/3.10.6/envs/lewagon/lib/python3.10/site-packages/sklearn/base.py:464: UserWarning: X does not have valid feature names, but LinearRegression was fitted with feature names\n",
      "  warnings.warn(\n",
      "/root/.pyenv/versions/3.10.6/envs/lewagon/lib/python3.10/site-packages/sklearn/base.py:464: UserWarning: X does not have valid feature names, but LinearRegression was fitted with feature names\n",
      "  warnings.warn(\n",
      "/root/.pyenv/versions/3.10.6/envs/lewagon/lib/python3.10/site-packages/sklearn/base.py:464: UserWarning: X does not have valid feature names, but LinearRegression was fitted with feature names\n",
      "  warnings.warn(\n",
      "/root/.pyenv/versions/3.10.6/envs/lewagon/lib/python3.10/site-packages/sklearn/base.py:464: UserWarning: X does not have valid feature names, but LinearRegression was fitted with feature names\n",
      "  warnings.warn(\n",
      "/root/.pyenv/versions/3.10.6/envs/lewagon/lib/python3.10/site-packages/sklearn/base.py:464: UserWarning: X does not have valid feature names, but LinearRegression was fitted with feature names\n",
      "  warnings.warn(\n",
      "/root/.pyenv/versions/3.10.6/envs/lewagon/lib/python3.10/site-packages/sklearn/base.py:464: UserWarning: X does not have valid feature names, but LinearRegression was fitted with feature names\n",
      "  warnings.warn(\n",
      "/root/.pyenv/versions/3.10.6/envs/lewagon/lib/python3.10/site-packages/sklearn/base.py:464: UserWarning: X does not have valid feature names, but LinearRegression was fitted with feature names\n",
      "  warnings.warn(\n",
      "/root/.pyenv/versions/3.10.6/envs/lewagon/lib/python3.10/site-packages/sklearn/base.py:464: UserWarning: X does not have valid feature names, but LinearRegression was fitted with feature names\n",
      "  warnings.warn(\n"
     ]
    }
   ],
   "source": [
    "obs_df, pred_df = prepare_input_data('output.txt')\n",
    "\n",
    "n_df, e_df, s_df, w_df = preprocessing(obs_df)\n",
    "\n",
    "errors_df, models = errors([n_df, e_df, s_df, w_df])\n",
    "\n",
    "prepped_df = prepare_data_for_prediction(pred_df)\n",
    "\n",
    "prepped_df['pred'] = prepped_df.apply(make_prediction, axis=1, models=models)"
   ]
  },
  {
   "cell_type": "code",
   "execution_count": 131,
   "id": "0fa24d59",
   "metadata": {
    "scrolled": true
   },
   "outputs": [
    {
     "data": {
      "text/html": [
       "<div>\n",
       "<style scoped>\n",
       "    .dataframe tbody tr th:only-of-type {\n",
       "        vertical-align: middle;\n",
       "    }\n",
       "\n",
       "    .dataframe tbody tr th {\n",
       "        vertical-align: top;\n",
       "    }\n",
       "\n",
       "    .dataframe thead th {\n",
       "        text-align: right;\n",
       "    }\n",
       "</style>\n",
       "<table border=\"1\" class=\"dataframe\">\n",
       "  <thead>\n",
       "    <tr style=\"text-align: right;\">\n",
       "      <th></th>\n",
       "      <th>DataFrame</th>\n",
       "      <th>Coefficient</th>\n",
       "      <th>Y-Intercept</th>\n",
       "      <th>MAE as %</th>\n",
       "      <th>MSE as %</th>\n",
       "    </tr>\n",
       "  </thead>\n",
       "  <tbody>\n",
       "    <tr>\n",
       "      <th>0</th>\n",
       "      <td>North</td>\n",
       "      <td>61.56</td>\n",
       "      <td>37.62</td>\n",
       "      <td>67.06</td>\n",
       "      <td>55.20</td>\n",
       "    </tr>\n",
       "    <tr>\n",
       "      <th>1</th>\n",
       "      <td>East</td>\n",
       "      <td>122.27</td>\n",
       "      <td>-13.04</td>\n",
       "      <td>66.10</td>\n",
       "      <td>64.99</td>\n",
       "    </tr>\n",
       "    <tr>\n",
       "      <th>2</th>\n",
       "      <td>South</td>\n",
       "      <td>130.19</td>\n",
       "      <td>-128.42</td>\n",
       "      <td>42.75</td>\n",
       "      <td>27.97</td>\n",
       "    </tr>\n",
       "    <tr>\n",
       "      <th>3</th>\n",
       "      <td>West</td>\n",
       "      <td>91.27</td>\n",
       "      <td>-4.58</td>\n",
       "      <td>97.98</td>\n",
       "      <td>223.12</td>\n",
       "    </tr>\n",
       "  </tbody>\n",
       "</table>\n",
       "</div>"
      ],
      "text/plain": [
       "  DataFrame  Coefficient  Y-Intercept  MAE as %  MSE as %\n",
       "0     North        61.56        37.62     67.06     55.20\n",
       "1      East       122.27       -13.04     66.10     64.99\n",
       "2     South       130.19      -128.42     42.75     27.97\n",
       "3      West        91.27        -4.58     97.98    223.12"
      ]
     },
     "execution_count": 131,
     "metadata": {},
     "output_type": "execute_result"
    }
   ],
   "source": [
    "errors_df.head()"
   ]
  },
  {
   "cell_type": "code",
   "execution_count": 132,
   "id": "9bf43e78",
   "metadata": {},
   "outputs": [
    {
     "data": {
      "text/html": [
       "<div>\n",
       "<style scoped>\n",
       "    .dataframe tbody tr th:only-of-type {\n",
       "        vertical-align: middle;\n",
       "    }\n",
       "\n",
       "    .dataframe tbody tr th {\n",
       "        vertical-align: top;\n",
       "    }\n",
       "\n",
       "    .dataframe thead th {\n",
       "        text-align: right;\n",
       "    }\n",
       "</style>\n",
       "<table border=\"1\" class=\"dataframe\">\n",
       "  <thead>\n",
       "    <tr style=\"text-align: right;\">\n",
       "      <th></th>\n",
       "      <th>date_time</th>\n",
       "      <th>U</th>\n",
       "      <th>V</th>\n",
       "      <th>Speed (m/ps)</th>\n",
       "      <th>Direction (degrees)</th>\n",
       "      <th>Direction (sector)</th>\n",
       "      <th>pred</th>\n",
       "    </tr>\n",
       "  </thead>\n",
       "  <tbody>\n",
       "    <tr>\n",
       "      <th>0</th>\n",
       "      <td>2009-10-20 14:00:00</td>\n",
       "      <td>-9</td>\n",
       "      <td>-9</td>\n",
       "      <td>1.006231</td>\n",
       "      <td>225.0</td>\n",
       "      <td>West</td>\n",
       "      <td>87.259897</td>\n",
       "    </tr>\n",
       "    <tr>\n",
       "      <th>1</th>\n",
       "      <td>2009-10-20 14:00:00</td>\n",
       "      <td>-9</td>\n",
       "      <td>-9</td>\n",
       "      <td>1.006231</td>\n",
       "      <td>225.0</td>\n",
       "      <td>West</td>\n",
       "      <td>87.259897</td>\n",
       "    </tr>\n",
       "    <tr>\n",
       "      <th>2</th>\n",
       "      <td>2009-10-20 14:00:00</td>\n",
       "      <td>-9</td>\n",
       "      <td>-9</td>\n",
       "      <td>1.006231</td>\n",
       "      <td>225.0</td>\n",
       "      <td>West</td>\n",
       "      <td>87.259897</td>\n",
       "    </tr>\n",
       "    <tr>\n",
       "      <th>3</th>\n",
       "      <td>2009-10-20 14:00:00</td>\n",
       "      <td>-9</td>\n",
       "      <td>-9</td>\n",
       "      <td>1.006231</td>\n",
       "      <td>225.0</td>\n",
       "      <td>West</td>\n",
       "      <td>87.259897</td>\n",
       "    </tr>\n",
       "    <tr>\n",
       "      <th>4</th>\n",
       "      <td>2009-10-20 14:00:00</td>\n",
       "      <td>-9</td>\n",
       "      <td>-9</td>\n",
       "      <td>1.006231</td>\n",
       "      <td>225.0</td>\n",
       "      <td>West</td>\n",
       "      <td>87.259897</td>\n",
       "    </tr>\n",
       "  </tbody>\n",
       "</table>\n",
       "</div>"
      ],
      "text/plain": [
       "            date_time  U  V  Speed (m/ps)  Direction (degrees)  \\\n",
       "0 2009-10-20 14:00:00 -9 -9      1.006231                225.0   \n",
       "1 2009-10-20 14:00:00 -9 -9      1.006231                225.0   \n",
       "2 2009-10-20 14:00:00 -9 -9      1.006231                225.0   \n",
       "3 2009-10-20 14:00:00 -9 -9      1.006231                225.0   \n",
       "4 2009-10-20 14:00:00 -9 -9      1.006231                225.0   \n",
       "\n",
       "  Direction (sector)       pred  \n",
       "0               West  87.259897  \n",
       "1               West  87.259897  \n",
       "2               West  87.259897  \n",
       "3               West  87.259897  \n",
       "4               West  87.259897  "
      ]
     },
     "execution_count": 132,
     "metadata": {},
     "output_type": "execute_result"
    }
   ],
   "source": [
    "pred_df.head()"
   ]
  },
  {
   "cell_type": "markdown",
   "id": "a0c70979",
   "metadata": {},
   "source": [
    "# From Here practice"
   ]
  },
  {
   "cell_type": "code",
   "execution_count": 133,
   "id": "2ce49806",
   "metadata": {},
   "outputs": [],
   "source": [
    "# Create the header for the output text\n",
    "header = \"Regresiones\"\n",
    "\n",
    "# Convert each row to the desired format\n",
    "rows_as_strings = errors_df.apply(lambda row: f\"{row['DataFrame']} {row['Coefficient']} {row['Y-Intercept']}\", axis=1)\n",
    "\n",
    "# Specify the file path where you want to save the strings\n",
    "file_path = 'output.txt'\n",
    "\n",
    "# Write the header and rows to a text file\n",
    "with open(file_path, 'w') as file:\n",
    "    file.write(header + '\\n')\n",
    "    for row_string in rows_as_strings:\n",
    "        file.write(row_string + '\\n')"
   ]
  },
  {
   "cell_type": "code",
   "execution_count": 134,
   "id": "8eb42063",
   "metadata": {},
   "outputs": [],
   "source": [
    "file_path = 'testing.txt'\n",
    "\n",
    "errors_df.to_csv(file_path, sep='\\t', index=False)"
   ]
  }
 ],
 "metadata": {
  "kernelspec": {
   "display_name": "Python 3 (ipykernel)",
   "language": "python",
   "name": "python3"
  },
  "language_info": {
   "codemirror_mode": {
    "name": "ipython",
    "version": 3
   },
   "file_extension": ".py",
   "mimetype": "text/x-python",
   "name": "python",
   "nbconvert_exporter": "python",
   "pygments_lexer": "ipython3",
   "version": "3.10.6"
  },
  "toc": {
   "base_numbering": 1,
   "nav_menu": {},
   "number_sections": true,
   "sideBar": true,
   "skip_h1_title": false,
   "title_cell": "Table of Contents",
   "title_sidebar": "Contents",
   "toc_cell": false,
   "toc_position": {},
   "toc_section_display": true,
   "toc_window_display": false
  }
 },
 "nbformat": 4,
 "nbformat_minor": 5
}
