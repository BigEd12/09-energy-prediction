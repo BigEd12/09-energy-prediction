{
 "cells": [
  {
   "cell_type": "markdown",
   "id": "6774d2b4",
   "metadata": {},
   "source": [
    "##### imports"
   ]
  },
  {
   "cell_type": "code",
   "execution_count": 42,
   "id": "49e31e5a",
   "metadata": {},
   "outputs": [],
   "source": [
    "import matplotlib.pyplot as plt\n",
    "import pandas as pd\n",
    "import numpy as np\n",
    "import seaborn as sns\n",
    "\n",
    "from itertools import combinations\n",
    "\n",
    "from sklearn.base import BaseEstimator, TransformerMixin\n",
    "from sklearn.metrics import mean_squared_error, r2_score\n",
    "from sklearn.linear_model import LinearRegression\n",
    "from sklearn.model_selection import cross_validate, train_test_split\n",
    "from sklearn.model_selection import GridSearchCV\n",
    "from sklearn.pipeline import Pipeline\n",
    "from sklearn.preprocessing import FunctionTransformer, StandardScaler"
   ]
  },
  {
   "cell_type": "markdown",
   "id": "023f5656",
   "metadata": {},
   "source": [
    "# Data Preparation"
   ]
  },
  {
   "cell_type": "code",
   "execution_count": 43,
   "id": "5346f051",
   "metadata": {},
   "outputs": [
    {
     "data": {
      "text/html": [
       "<div>\n",
       "<style scoped>\n",
       "    .dataframe tbody tr th:only-of-type {\n",
       "        vertical-align: middle;\n",
       "    }\n",
       "\n",
       "    .dataframe tbody tr th {\n",
       "        vertical-align: top;\n",
       "    }\n",
       "\n",
       "    .dataframe thead th {\n",
       "        text-align: right;\n",
       "    }\n",
       "</style>\n",
       "<table border=\"1\" class=\"dataframe\">\n",
       "  <thead>\n",
       "    <tr style=\"text-align: right;\">\n",
       "      <th></th>\n",
       "      <th>Observacion</th>\n",
       "      <th>U</th>\n",
       "      <th>V</th>\n",
       "      <th>T</th>\n",
       "    </tr>\n",
       "  </thead>\n",
       "  <tbody>\n",
       "    <tr>\n",
       "      <th>0</th>\n",
       "      <td>512</td>\n",
       "      <td>13</td>\n",
       "      <td>-34</td>\n",
       "      <td>2873</td>\n",
       "    </tr>\n",
       "    <tr>\n",
       "      <th>1</th>\n",
       "      <td>726</td>\n",
       "      <td>17</td>\n",
       "      <td>-21</td>\n",
       "      <td>2821</td>\n",
       "    </tr>\n",
       "    <tr>\n",
       "      <th>2</th>\n",
       "      <td>730</td>\n",
       "      <td>10</td>\n",
       "      <td>-21</td>\n",
       "      <td>2809</td>\n",
       "    </tr>\n",
       "  </tbody>\n",
       "</table>\n",
       "</div>"
      ],
      "text/plain": [
       "   Observacion   U   V     T\n",
       "0          512  13 -34  2873\n",
       "1          726  17 -21  2821\n",
       "2          730  10 -21  2809"
      ]
     },
     "execution_count": 43,
     "metadata": {},
     "output_type": "execute_result"
    }
   ],
   "source": [
    "df = pd.read_csv('meteologica.txt', delimiter=';')\n",
    "df.head(3)"
   ]
  },
  {
   "cell_type": "markdown",
   "id": "ef072bf9",
   "metadata": {},
   "source": [
    "## Calculate Wind Speed"
   ]
  },
  {
   "cell_type": "code",
   "execution_count": 44,
   "id": "74204226",
   "metadata": {},
   "outputs": [],
   "source": [
    "def add_wind_speed(df):\n",
    "    return np.sqrt((df['U'] / 20) ** 2 + (df['V'] / 10) ** 2)"
   ]
  },
  {
   "cell_type": "markdown",
   "id": "d165ce8a",
   "metadata": {},
   "source": [
    "## Calculate Wind Direction"
   ]
  },
  {
   "cell_type": "code",
   "execution_count": 45,
   "id": "64c95b04",
   "metadata": {},
   "outputs": [],
   "source": [
    "def wind_radians_degrees(df):\n",
    "    radians = np.arctan2(df['U'], df['V'])\n",
    "    degrees = (np.degrees(radians) + 360) % 360\n",
    "    return degrees"
   ]
  },
  {
   "cell_type": "markdown",
   "id": "202aea93",
   "metadata": {},
   "source": [
    "## Calculate Wind Direction Sector"
   ]
  },
  {
   "cell_type": "code",
   "execution_count": 46,
   "id": "8fb4c33c",
   "metadata": {},
   "outputs": [],
   "source": [
    "def direction_sector(df):\n",
    "    if df['Direction (degrees)'] >= 315 or df['Direction (degrees)'] < 45:\n",
    "        return 'North'\n",
    "    elif df['Direction (degrees)'] >= 45 and df['Direction (degrees)'] < 135:\n",
    "        return 'East'\n",
    "    elif df['Direction (degrees)'] >= 135 and df['Direction (degrees)'] < 225:\n",
    "        return 'South'\n",
    "    else:\n",
    "        return 'West'"
   ]
  },
  {
   "cell_type": "markdown",
   "id": "710f57fa",
   "metadata": {},
   "source": [
    "## Apply Functions"
   ]
  },
  {
   "cell_type": "code",
   "execution_count": 47,
   "id": "e127dda8",
   "metadata": {},
   "outputs": [],
   "source": [
    "df['Speed (m/ps)'] = df.apply(add_wind_speed, axis=1)\n",
    "df['Direction (degrees)'] = df.apply(wind_radians_degrees, axis=1)\n",
    "df['Direction (sector)'] = df.apply(direction_sector, axis=1)"
   ]
  },
  {
   "cell_type": "code",
   "execution_count": 48,
   "id": "37d5b8b3",
   "metadata": {
    "scrolled": true
   },
   "outputs": [
    {
     "data": {
      "text/html": [
       "<div>\n",
       "<style scoped>\n",
       "    .dataframe tbody tr th:only-of-type {\n",
       "        vertical-align: middle;\n",
       "    }\n",
       "\n",
       "    .dataframe tbody tr th {\n",
       "        vertical-align: top;\n",
       "    }\n",
       "\n",
       "    .dataframe thead th {\n",
       "        text-align: right;\n",
       "    }\n",
       "</style>\n",
       "<table border=\"1\" class=\"dataframe\">\n",
       "  <thead>\n",
       "    <tr style=\"text-align: right;\">\n",
       "      <th></th>\n",
       "      <th>Observacion</th>\n",
       "      <th>U</th>\n",
       "      <th>V</th>\n",
       "      <th>T</th>\n",
       "      <th>Speed (m/ps)</th>\n",
       "      <th>Direction (degrees)</th>\n",
       "      <th>Direction (sector)</th>\n",
       "    </tr>\n",
       "  </thead>\n",
       "  <tbody>\n",
       "    <tr>\n",
       "      <th>0</th>\n",
       "      <td>512</td>\n",
       "      <td>13</td>\n",
       "      <td>-34</td>\n",
       "      <td>2873</td>\n",
       "      <td>3.461575</td>\n",
       "      <td>159.075498</td>\n",
       "      <td>South</td>\n",
       "    </tr>\n",
       "    <tr>\n",
       "      <th>1</th>\n",
       "      <td>726</td>\n",
       "      <td>17</td>\n",
       "      <td>-21</td>\n",
       "      <td>2821</td>\n",
       "      <td>2.265502</td>\n",
       "      <td>141.009006</td>\n",
       "      <td>South</td>\n",
       "    </tr>\n",
       "    <tr>\n",
       "      <th>2</th>\n",
       "      <td>730</td>\n",
       "      <td>10</td>\n",
       "      <td>-21</td>\n",
       "      <td>2809</td>\n",
       "      <td>2.158703</td>\n",
       "      <td>154.536655</td>\n",
       "      <td>South</td>\n",
       "    </tr>\n",
       "    <tr>\n",
       "      <th>3</th>\n",
       "      <td>844</td>\n",
       "      <td>9</td>\n",
       "      <td>-37</td>\n",
       "      <td>2830</td>\n",
       "      <td>3.727264</td>\n",
       "      <td>166.328693</td>\n",
       "      <td>South</td>\n",
       "    </tr>\n",
       "    <tr>\n",
       "      <th>4</th>\n",
       "      <td>948</td>\n",
       "      <td>2</td>\n",
       "      <td>-46</td>\n",
       "      <td>2838</td>\n",
       "      <td>4.601087</td>\n",
       "      <td>177.510447</td>\n",
       "      <td>South</td>\n",
       "    </tr>\n",
       "  </tbody>\n",
       "</table>\n",
       "</div>"
      ],
      "text/plain": [
       "   Observacion   U   V     T  Speed (m/ps)  Direction (degrees)  \\\n",
       "0          512  13 -34  2873      3.461575           159.075498   \n",
       "1          726  17 -21  2821      2.265502           141.009006   \n",
       "2          730  10 -21  2809      2.158703           154.536655   \n",
       "3          844   9 -37  2830      3.727264           166.328693   \n",
       "4          948   2 -46  2838      4.601087           177.510447   \n",
       "\n",
       "  Direction (sector)  \n",
       "0              South  \n",
       "1              South  \n",
       "2              South  \n",
       "3              South  \n",
       "4              South  "
      ]
     },
     "execution_count": 48,
     "metadata": {},
     "output_type": "execute_result"
    }
   ],
   "source": [
    "df.head()"
   ]
  },
  {
   "cell_type": "markdown",
   "id": "0a07d804",
   "metadata": {},
   "source": [
    "## DataFrames by Sector"
   ]
  },
  {
   "cell_type": "code",
   "execution_count": 49,
   "id": "e4150225",
   "metadata": {},
   "outputs": [],
   "source": [
    "north_df = df[df['Direction (sector)'] == 'North']\n",
    "east_df = df[df['Direction (sector)'] == 'East']\n",
    "south_df = df[df['Direction (sector)'] == 'South']\n",
    "west_df = df[df['Direction (sector)'] == 'West']"
   ]
  },
  {
   "cell_type": "markdown",
   "id": "a55635fd",
   "metadata": {},
   "source": [
    "## Scaler by Sector"
   ]
  },
  {
   "cell_type": "code",
   "execution_count": 50,
   "id": "a8b7663a",
   "metadata": {},
   "outputs": [
    {
     "data": {
      "text/html": [
       "<style>#sk-container-id-2 {color: black;}#sk-container-id-2 pre{padding: 0;}#sk-container-id-2 div.sk-toggleable {background-color: white;}#sk-container-id-2 label.sk-toggleable__label {cursor: pointer;display: block;width: 100%;margin-bottom: 0;padding: 0.3em;box-sizing: border-box;text-align: center;}#sk-container-id-2 label.sk-toggleable__label-arrow:before {content: \"▸\";float: left;margin-right: 0.25em;color: #696969;}#sk-container-id-2 label.sk-toggleable__label-arrow:hover:before {color: black;}#sk-container-id-2 div.sk-estimator:hover label.sk-toggleable__label-arrow:before {color: black;}#sk-container-id-2 div.sk-toggleable__content {max-height: 0;max-width: 0;overflow: hidden;text-align: left;background-color: #f0f8ff;}#sk-container-id-2 div.sk-toggleable__content pre {margin: 0.2em;color: black;border-radius: 0.25em;background-color: #f0f8ff;}#sk-container-id-2 input.sk-toggleable__control:checked~div.sk-toggleable__content {max-height: 200px;max-width: 100%;overflow: auto;}#sk-container-id-2 input.sk-toggleable__control:checked~label.sk-toggleable__label-arrow:before {content: \"▾\";}#sk-container-id-2 div.sk-estimator input.sk-toggleable__control:checked~label.sk-toggleable__label {background-color: #d4ebff;}#sk-container-id-2 div.sk-label input.sk-toggleable__control:checked~label.sk-toggleable__label {background-color: #d4ebff;}#sk-container-id-2 input.sk-hidden--visually {border: 0;clip: rect(1px 1px 1px 1px);clip: rect(1px, 1px, 1px, 1px);height: 1px;margin: -1px;overflow: hidden;padding: 0;position: absolute;width: 1px;}#sk-container-id-2 div.sk-estimator {font-family: monospace;background-color: #f0f8ff;border: 1px dotted black;border-radius: 0.25em;box-sizing: border-box;margin-bottom: 0.5em;}#sk-container-id-2 div.sk-estimator:hover {background-color: #d4ebff;}#sk-container-id-2 div.sk-parallel-item::after {content: \"\";width: 100%;border-bottom: 1px solid gray;flex-grow: 1;}#sk-container-id-2 div.sk-label:hover label.sk-toggleable__label {background-color: #d4ebff;}#sk-container-id-2 div.sk-serial::before {content: \"\";position: absolute;border-left: 1px solid gray;box-sizing: border-box;top: 0;bottom: 0;left: 50%;z-index: 0;}#sk-container-id-2 div.sk-serial {display: flex;flex-direction: column;align-items: center;background-color: white;padding-right: 0.2em;padding-left: 0.2em;position: relative;}#sk-container-id-2 div.sk-item {position: relative;z-index: 1;}#sk-container-id-2 div.sk-parallel {display: flex;align-items: stretch;justify-content: center;background-color: white;position: relative;}#sk-container-id-2 div.sk-item::before, #sk-container-id-2 div.sk-parallel-item::before {content: \"\";position: absolute;border-left: 1px solid gray;box-sizing: border-box;top: 0;bottom: 0;left: 50%;z-index: -1;}#sk-container-id-2 div.sk-parallel-item {display: flex;flex-direction: column;z-index: 1;position: relative;background-color: white;}#sk-container-id-2 div.sk-parallel-item:first-child::after {align-self: flex-end;width: 50%;}#sk-container-id-2 div.sk-parallel-item:last-child::after {align-self: flex-start;width: 50%;}#sk-container-id-2 div.sk-parallel-item:only-child::after {width: 0;}#sk-container-id-2 div.sk-dashed-wrapped {border: 1px dashed gray;margin: 0 0.4em 0.5em 0.4em;box-sizing: border-box;padding-bottom: 0.4em;background-color: white;}#sk-container-id-2 div.sk-label label {font-family: monospace;font-weight: bold;display: inline-block;line-height: 1.2em;}#sk-container-id-2 div.sk-label-container {text-align: center;}#sk-container-id-2 div.sk-container {/* jupyter's `normalize.less` sets `[hidden] { display: none; }` but bootstrap.min.css set `[hidden] { display: none !important; }` so we also need the `!important` here to be able to override the default hidden behavior on the sphinx rendered scikit-learn.org. See: https://github.com/scikit-learn/scikit-learn/issues/21755 */display: inline-block !important;position: relative;}#sk-container-id-2 div.sk-text-repr-fallback {display: none;}</style><div id=\"sk-container-id-2\" class=\"sk-top-container\"><div class=\"sk-text-repr-fallback\"><pre>Pipeline(steps=[(&#x27;std_scaler&#x27;, StandardScaler())])</pre><b>In a Jupyter environment, please rerun this cell to show the HTML representation or trust the notebook. <br />On GitHub, the HTML representation is unable to render, please try loading this page with nbviewer.org.</b></div><div class=\"sk-container\" hidden><div class=\"sk-item sk-dashed-wrapped\"><div class=\"sk-label-container\"><div class=\"sk-label sk-toggleable\"><input class=\"sk-toggleable__control sk-hidden--visually\" id=\"sk-estimator-id-3\" type=\"checkbox\" ><label for=\"sk-estimator-id-3\" class=\"sk-toggleable__label sk-toggleable__label-arrow\">Pipeline</label><div class=\"sk-toggleable__content\"><pre>Pipeline(steps=[(&#x27;std_scaler&#x27;, StandardScaler())])</pre></div></div></div><div class=\"sk-serial\"><div class=\"sk-item\"><div class=\"sk-estimator sk-toggleable\"><input class=\"sk-toggleable__control sk-hidden--visually\" id=\"sk-estimator-id-4\" type=\"checkbox\" ><label for=\"sk-estimator-id-4\" class=\"sk-toggleable__label sk-toggleable__label-arrow\">StandardScaler</label><div class=\"sk-toggleable__content\"><pre>StandardScaler()</pre></div></div></div></div></div></div></div>"
      ],
      "text/plain": [
       "Pipeline(steps=[('std_scaler', StandardScaler())])"
      ]
     },
     "execution_count": 50,
     "metadata": {},
     "output_type": "execute_result"
    }
   ],
   "source": [
    "pipeline = Pipeline([\n",
    "    ('std_scaler', StandardScaler())\n",
    "])\n",
    "pipeline"
   ]
  },
  {
   "cell_type": "code",
   "execution_count": 51,
   "id": "f728906f",
   "metadata": {},
   "outputs": [],
   "source": [
    "# north_f_df = north_df[['U', 'V', 'Speed (m/ps)', 'Direction (degrees)']]\n",
    "\n",
    "# north_f_df.head()"
   ]
  },
  {
   "cell_type": "markdown",
   "id": "b1aae42e",
   "metadata": {},
   "source": [
    "# North Linear Regression"
   ]
  },
  {
   "cell_type": "code",
   "execution_count": 53,
   "id": "f65c19b5",
   "metadata": {},
   "outputs": [],
   "source": [
    "X_n = north_df[['U', 'V', 'Speed (m/ps)', 'Direction (degrees)']]\n",
    "y_n = north_df['Observacion']\n",
    "\n",
    "X_train_n, X_test_n, y_train_n, y_test_n = train_test_split(X_n, \n",
    "                                                            y_n, \n",
    "                                                            test_size=0.2,\n",
    "                                                            random_state=42\n",
    "                                                           )"
   ]
  },
  {
   "cell_type": "code",
   "execution_count": 54,
   "id": "bb00e1b0",
   "metadata": {},
   "outputs": [],
   "source": [
    "X_train_n_scaled = pipeline.fit_transform(X_train_n)\n",
    "X_test_n_scaled = pipeline.fit_transform(X_test_n)"
   ]
  },
  {
   "cell_type": "code",
   "execution_count": 55,
   "id": "4ff8de94",
   "metadata": {},
   "outputs": [
    {
     "data": {
      "text/plain": [
       "'Y-Intercept for north sector: 252.3637961335677'"
      ]
     },
     "metadata": {},
     "output_type": "display_data"
    },
    {
     "data": {
      "text/plain": [
       "'Coefficient for north sector: [  16.57332326 -398.02962575  561.86638151  -12.99349163]'"
      ]
     },
     "metadata": {},
     "output_type": "display_data"
    }
   ],
   "source": [
    "lin_reg_n = LinearRegression()\n",
    "lin_reg_n.fit(X_train_n_scaled, y_train_n)\n",
    "\n",
    "display(f'Y-Intercept for north sector: {lin_reg_n.intercept_}')\n",
    "display(f'Coefficient for north sector: {lin_reg_n.coef_}')"
   ]
  },
  {
   "cell_type": "code",
   "execution_count": 56,
   "id": "843083bd",
   "metadata": {},
   "outputs": [
    {
     "data": {
      "text/plain": [
       "'MSE: 34818.48'"
      ]
     },
     "metadata": {},
     "output_type": "display_data"
    },
    {
     "data": {
      "text/plain": [
       "'RMSE: 186.6'"
      ]
     },
     "metadata": {},
     "output_type": "display_data"
    },
    {
     "data": {
      "text/plain": [
       "'MAE: 140.8'"
      ]
     },
     "metadata": {},
     "output_type": "display_data"
    },
    {
     "data": {
      "text/plain": [
       "'R-squared: 0.5129'"
      ]
     },
     "metadata": {},
     "output_type": "display_data"
    }
   ],
   "source": [
    "y_pred_n = lin_reg_n.predict(X_test_n_scaled)\n",
    "\n",
    "mse_n = round(mean_squared_error(y_test_n, y_pred_n), 2)\n",
    "rmse_n = round(np.sqrt(mse_n), 2)\n",
    "mae_n = round(np.mean(np.abs(y_test_n - y_pred_n)), 2)\n",
    "r2_n = round(r2_score(y_test_n, y_pred_n), 4)\n",
    "\n",
    "display(f'MSE: {mse_n}')\n",
    "display(f'RMSE: {rmse_n}')\n",
    "display(f'MAE: {mae_n}')\n",
    "display(f'R-squared: {r2_n}')"
   ]
  },
  {
   "cell_type": "code",
   "execution_count": 62,
   "id": "c6512f85",
   "metadata": {},
   "outputs": [
    {
     "data": {
      "image/png": "[encoded data removed]",
      "text/plain": [
       "<Figure size 1200x400 with 2 Axes>"
      ]
     },
     "metadata": {},
     "output_type": "display_data"
    },
    {
     "data": {
      "text/plain": [
       "<Figure size 640x480 with 0 Axes>"
      ]
     },
     "metadata": {},
     "output_type": "display_data"
    }
   ],
   "source": [
    "errors_multi_n = [mse_n, mae_n]\n",
    "residuals_n = y_test_n - y_pred_n\n",
    "\n",
    "plt.figure(figsize=(12, 4))\n",
    "\n",
    "plt.subplot(121)\n",
    "plt.scatter(y_test_n, y_pred_n, alpha=0.5)\n",
    "plt.title('Actual vs Predicted - North')\n",
    "plt.xlabel('Actual Values')\n",
    "plt.ylabel('Predicted Values')\n",
    "\n",
    "x_range = np.linspace(min(y_test_n), max(y_test_n), 100)  # Create a range of x values\n",
    "regression_line = x_range  # Replace this with your actual regression equation\n",
    "plt.plot(x_range, regression_line, color='red')\n",
    "feature_importance_n = lin_reg_n.coef_\n",
    "\n",
    "plt.subplot(122)\n",
    "plt.bar(X_n_df.columns, feature_importance_n)\n",
    "plt.title('Feature Importance Plot')\n",
    "plt.xlabel('Features')\n",
    "plt.ylabel('Coefficient (Importance)')\n",
    "plt.xticks(rotation=45)\n",
    "plt.show()\n",
    "\n",
    "plt.tight_layout()\n",
    "plt.show()"
   ]
  },
  {
   "cell_type": "code",
   "execution_count": null,
   "id": "0900624c",
   "metadata": {},
   "outputs": [],
   "source": []
  },
  {
   "cell_type": "code",
   "execution_count": null,
   "id": "81ee7eb2",
   "metadata": {},
   "outputs": [],
   "source": []
  }
 ],
 "metadata": {
  "kernelspec": {
   "display_name": "Python 3 (ipykernel)",
   "language": "python",
   "name": "python3"
  },
  "language_info": {
   "codemirror_mode": {
    "name": "ipython",
    "version": 3
   },
   "file_extension": ".py",
   "mimetype": "text/x-python",
   "name": "python",
   "nbconvert_exporter": "python",
   "pygments_lexer": "ipython3",
   "version": "3.10.6"
  },
  "toc": {
   "base_numbering": 1,
   "nav_menu": {},
   "number_sections": true,
   "sideBar": true,
   "skip_h1_title": false,
   "title_cell": "Table of Contents",
   "title_sidebar": "Contents",
   "toc_cell": false,
   "toc_position": {},
   "toc_section_display": true,
   "toc_window_display": false
  }
 },
 "nbformat": 4,
 "nbformat_minor": 5
}
